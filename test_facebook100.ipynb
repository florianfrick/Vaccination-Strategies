{
 "cells": [
  {
   "cell_type": "code",
   "execution_count": 1,
   "id": "1ffafb61-23fa-4475-9e36-66c375280ec8",
   "metadata": {},
   "outputs": [],
   "source": [
    "import scipy.io as sio\n",
    "import pandas as pd\n",
    "import networkx as nx\n",
    "\n",
    "# Code based on https://github.com/timpostuvan/link-prediction-facebook100/blob/master/all-data/facebook100_parser.py\n",
    "\n",
    "def get_attribute_partition(matlab_object, attribute):\n",
    "    attribute_rows = matlab_object[\"local_info\"]\n",
    "    \n",
    "    try:\n",
    "        index = attribute_dict[attribute]\n",
    "    except KeyError:\n",
    "        raise KeyError(\"Given attribute \" + attribute + \" is not a valid choice.\\nValid choices include\\n\" + str(attribute_dict.keys()))\n",
    "\n",
    "    current_id = 0\n",
    "    values = dict()\n",
    "    for row in attribute_rows:\n",
    "        if not(len(row) == 7):\n",
    "            raise ValueError(\"Row \" + str(current_id) + \" has \" + str(len(row)) + \" rather than the expected 7 rows!\")\n",
    "       \n",
    "        val = row[index]\n",
    "        values[current_id] = int(val)\n",
    "        current_id += 1\n",
    "\n",
    "    return values\n",
    "\n",
    "node_attributes = [\"student_fac\", \"gender\", \"major_index\", \"second_major\", \"dorm\", \"year\", \"high_school\"]\n",
    "\n",
    "attribute_dict = {\n",
    "    \"student_fac\" : 0,\n",
    "    \"gender\" : 1,\n",
    "    \"major_index\" : 2,\n",
    "    \"second_major\" : 3,\n",
    "    \"dorm\" : 4,\n",
    "    \"year\" : 5,\n",
    "    \"high_school\" : 6,\n",
    "    }"
   ]
  },
  {
   "cell_type": "code",
   "execution_count": 2,
   "id": "b983456a-1b57-4076-a1d4-32b1918e0289",
   "metadata": {
    "tags": []
   },
   "outputs": [],
   "source": [
    "# Turn one .mat file into a nx graph\n",
    "filename = \"./facebook100/American75.mat\"\n",
    "matlab_object = sio.loadmat(filename)\n",
    "scipy_sparse_graph = matlab_object[\"A\"]\n",
    "G = nx.from_scipy_sparse_array(scipy_sparse_graph)\n",
    "\n",
    "for attribute in attribute_dict:\n",
    "            values = get_attribute_partition(matlab_object, attribute)\n",
    "            for node in values:\n",
    "                    G.nodes[node][attribute] = values[node]"
   ]
  },
  {
   "cell_type": "code",
   "execution_count": 3,
   "id": "d29bd7a5-e4f1-4bcb-b67b-038074ec1b0b",
   "metadata": {},
   "outputs": [
    {
     "name": "stdout",
     "output_type": "stream",
     "text": [
      "Number of nodes: 6386\n",
      "Number of edges 217662\n",
      "Edge's from node 1 [(1, 453), (1, 1245), (1, 2539), (1, 3043), (1, 3354), (1, 3604), (1, 4742), (1, 5419)]\n"
     ]
    },
    {
     "data": {
      "text/plain": [
       "[(0,\n",
       "  {'student_fac': 1,\n",
       "   'gender': 1,\n",
       "   'major_index': 265,\n",
       "   'second_major': 247,\n",
       "   'dorm': 0,\n",
       "   'year': 2008,\n",
       "   'high_school': 9367}),\n",
       " (1,\n",
       "  {'student_fac': 5,\n",
       "   'gender': 2,\n",
       "   'major_index': 265,\n",
       "   'second_major': 253,\n",
       "   'dorm': 0,\n",
       "   'year': 2006,\n",
       "   'high_school': 23586}),\n",
       " (2,\n",
       "  {'student_fac': 1,\n",
       "   'gender': 1,\n",
       "   'major_index': 0,\n",
       "   'second_major': 0,\n",
       "   'dorm': 0,\n",
       "   'year': 2009,\n",
       "   'high_school': 50418})]"
      ]
     },
     "execution_count": 3,
     "metadata": {},
     "output_type": "execute_result"
    }
   ],
   "source": [
    "# print some data about the graph, and what a few edges/nodes look like\n",
    "print(\"Number of nodes:\", nx.number_of_nodes(G))\n",
    "print(\"Number of edges\", nx.number_of_edges(G))\n",
    "\n",
    "print(\"Edge's from node 1\", G.edges(1))\n",
    "\n",
    "list(G.nodes(data=True))[:3]"
   ]
  }
 ],
 "metadata": {
  "kernelspec": {
   "display_name": "Python 3 (ipykernel)",
   "language": "python",
   "name": "python3"
  },
  "language_info": {
   "codemirror_mode": {
    "name": "ipython",
    "version": 3
   },
   "file_extension": ".py",
   "mimetype": "text/x-python",
   "name": "python",
   "nbconvert_exporter": "python",
   "pygments_lexer": "ipython3",
   "version": "3.10.8"
  }
 },
 "nbformat": 4,
 "nbformat_minor": 5
}
